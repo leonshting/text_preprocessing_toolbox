{
 "cells": [
  {
   "cell_type": "code",
   "execution_count": 20,
   "metadata": {
    "ExecuteTime": {
     "end_time": "2017-12-19T16:01:35.382147Z",
     "start_time": "2017-12-19T16:01:35.379478Z"
    },
    "collapsed": true
   },
   "outputs": [],
   "source": [
    "import warnings\n",
    "warnings.simplefilter('ignore')"
   ]
  },
  {
   "cell_type": "code",
   "execution_count": 21,
   "metadata": {
    "ExecuteTime": {
     "end_time": "2017-12-19T16:01:35.394800Z",
     "start_time": "2017-12-19T16:01:35.391184Z"
    },
    "collapsed": true
   },
   "outputs": [],
   "source": [
    "import pandas as pd\n",
    "import numpy as np\n",
    "import re\n",
    "from pymystem3 import Mystem\n",
    "import json\n",
    "from pprint import pprint"
   ]
  },
  {
   "cell_type": "code",
   "execution_count": 50,
   "metadata": {
    "ExecuteTime": {
     "end_time": "2017-12-19T16:13:30.793958Z",
     "start_time": "2017-12-19T16:13:30.789655Z"
    },
    "collapsed": false
   },
   "outputs": [
    {
     "data": {
      "text/plain": [
       "'Если Ваше обращение касается систем дистанционного банковского обслуживания и качества работы технической поддержки Сбербанк Бизнес Онлайн,  то рекомендуем обращаться в круглосуточную службу по телефону 8-800-5555-777, далее в голосовом меню выбираете пункт 3.\\\\n'"
      ]
     },
     "execution_count": 50,
     "metadata": {},
     "output_type": "execute_result"
    }
   ],
   "source": [
    "text = 'Если Ваше обращение касается систем дистанционного банковского обслуживания и качества работы технической поддержки Сбербанк Бизнес Онлайн,  то рекомендуем обращаться в круглосуточную службу по телефону 8-800-5555-777, далее в голосовом меню выбираете пункт 3.\\\\n'\n",
    "text"
   ]
  },
  {
   "cell_type": "code",
   "execution_count": 44,
   "metadata": {
    "ExecuteTime": {
     "end_time": "2017-12-19T16:13:23.139643Z",
     "start_time": "2017-12-19T16:13:23.105509Z"
    },
    "collapsed": true
   },
   "outputs": [],
   "source": [
    "def lower(string):\n",
    "    return string.lower()\n",
    "\n",
    "def read_json(path):\n",
    "    return json.load(open(path))\n",
    "\n",
    "def rm_stop_phrases(s, stop_phrases):\n",
    "    for phrase in stop_phrases:\n",
    "        s = re.sub(phrase, \"\", s, flags=re.IGNORECASE)\n",
    "    return s\n",
    "\n",
    "def rm_stop_words(s, stop_words):\n",
    "    return \" \".join([i for i in s.split(' ') if i not in stop_words])\n",
    "\n",
    "def rpl_newline(s):\n",
    "    return re.sub(pattern=r'[\\t\\n]', repl=' ', string=s)\n",
    "\n",
    "def rm_spaces(s):\n",
    "    return re.sub(pattern=r'[ -]', string=s, repl='')\n",
    "\n",
    "def rpl_url(s):\n",
    "    rg = r\"^(?:http(s)?:\\/\\/)?[\\w.-]+(?:\\.[\\w\\.-]+)+[\\w\\-\\._~:/?#[\\]@!\\$&'\\(\\)\\*\\+,;=.]+$\"\n",
    "    return re.sub(pattern=rg, repl=' <url> ', string=s)\n",
    "\n",
    "def rm_chars(s):\n",
    "    return re.sub(pattern=r'[№\\-:\"]+', string=s, repl=' ')\n",
    "\n",
    "def rm_trash(s):\n",
    "    return re.sub(pattern=r'((&ndash;)|(raquo;)|(laquo;)|(\\ufeff)|(\\&*amp);*|(\\&*quot);*)+', string=s, repl=' ')\n",
    "\n",
    "def add_spaces_around_punctuations(s):\n",
    "    return re.sub(pattern=r'([\\(\\)\\\\/,.?!:]+)', repl=r' \\1 ', string=s)"
   ]
  },
  {
   "cell_type": "code",
   "execution_count": 53,
   "metadata": {
    "ExecuteTime": {
     "end_time": "2017-12-19T16:20:17.550718Z",
     "start_time": "2017-12-19T16:20:17.548214Z"
    },
    "collapsed": true
   },
   "outputs": [],
   "source": [
    "t = 'подскажите пожалуйста как, открыть счет'"
   ]
  },
  {
   "cell_type": "code",
   "execution_count": 54,
   "metadata": {
    "ExecuteTime": {
     "end_time": "2017-12-19T16:20:17.795299Z",
     "start_time": "2017-12-19T16:20:17.791481Z"
    },
    "collapsed": true
   },
   "outputs": [],
   "source": [
    "stop_phrases = read_json('data/json/stop_phrases.json')\n",
    "stop_words = read_json('data/json/stop_words_rus.json')"
   ]
  },
  {
   "cell_type": "code",
   "execution_count": 55,
   "metadata": {
    "ExecuteTime": {
     "end_time": "2017-12-19T16:20:18.048971Z",
     "start_time": "2017-12-19T16:20:18.045281Z"
    },
    "collapsed": false
   },
   "outputs": [
    {
     "data": {
      "text/plain": [
       "' как, открыть счет'"
      ]
     },
     "execution_count": 55,
     "metadata": {},
     "output_type": "execute_result"
    }
   ],
   "source": [
    "rm_stop_phrases(t, stop_phrases)"
   ]
  },
  {
   "cell_type": "code",
   "execution_count": 56,
   "metadata": {
    "ExecuteTime": {
     "end_time": "2017-12-19T16:20:18.448615Z",
     "start_time": "2017-12-19T16:20:18.442619Z"
    },
    "collapsed": false
   },
   "outputs": [
    {
     "data": {
      "text/plain": [
       "'подскажите как, открыть счет'"
      ]
     },
     "execution_count": 56,
     "metadata": {},
     "output_type": "execute_result"
    }
   ],
   "source": [
    "rm_stop_words(t, stop_words)"
   ]
  },
  {
   "cell_type": "code",
   "execution_count": 49,
   "metadata": {
    "ExecuteTime": {
     "end_time": "2017-12-19T16:13:24.605943Z",
     "start_time": "2017-12-19T16:13:24.601128Z"
    },
    "collapsed": false
   },
   "outputs": [
    {
     "data": {
      "text/plain": [
       "'Если Ваше обращение касается систем дистанционного банковского обслуживания и качества работы технической поддержки Сбербанк Бизнес Онлайн,  то рекомендуем обращаться в круглосуточную службу по телефону 8-800-5555-777, далее в голосовом меню выбираете пункт 3. '"
      ]
     },
     "execution_count": 49,
     "metadata": {},
     "output_type": "execute_result"
    }
   ],
   "source": [
    "rpl_newline(text)"
   ]
  },
  {
   "cell_type": "code",
   "execution_count": 51,
   "metadata": {
    "ExecuteTime": {
     "end_time": "2017-12-19T16:13:56.534366Z",
     "start_time": "2017-12-19T16:13:56.529185Z"
    },
    "collapsed": false
   },
   "outputs": [
    {
     "data": {
      "text/plain": [
       "' <url> '"
      ]
     },
     "execution_count": 51,
     "metadata": {},
     "output_type": "execute_result"
    }
   ],
   "source": [
    "rpl_url('yandex.ru')"
   ]
  },
  {
   "cell_type": "code",
   "execution_count": 52,
   "metadata": {
    "ExecuteTime": {
     "end_time": "2017-12-19T16:15:42.788988Z",
     "start_time": "2017-12-19T16:15:42.783643Z"
    },
    "collapsed": false
   },
   "outputs": [
    {
     "data": {
      "text/plain": [
       "'ЕслиВашеобращениекасаетсясистемдистанционногобанковскогообслуживанияикачестваработытехническойподдержкиСбербанкБизнесОнлайн,торекомендуемобращатьсявкруглосуточнуюслужбупотелефону88005555777,далеевголосовомменювыбираетепункт3.\\\\n'"
      ]
     },
     "execution_count": 52,
     "metadata": {},
     "output_type": "execute_result"
    }
   ],
   "source": [
    "rm_spaces(text)"
   ]
  },
  {
   "cell_type": "code",
   "execution_count": 57,
   "metadata": {
    "ExecuteTime": {
     "end_time": "2017-12-19T16:21:29.171395Z",
     "start_time": "2017-12-19T16:21:29.165499Z"
    },
    "collapsed": false
   },
   "outputs": [
    {
     "data": {
      "text/plain": [
       "'Если Ваше обращение касается систем дистанционного банковского обслуживания и качества работы технической поддержки Сбербанк Бизнес Онлайн ,   то рекомендуем обращаться в круглосуточную службу по телефону 8-800-5555-777 ,  далее в голосовом меню выбираете пункт 3 .\\\\ n'"
      ]
     },
     "execution_count": 57,
     "metadata": {},
     "output_type": "execute_result"
    }
   ],
   "source": [
    "add_spaces_around_punctuations(text)"
   ]
  },
  {
   "cell_type": "code",
   "execution_count": null,
   "metadata": {
    "collapsed": true
   },
   "outputs": [],
   "source": [
    ""
   ]
  }
 ],
 "metadata": {
  "kernelspec": {
   "display_name": "Python 3",
   "language": "python",
   "name": "python3"
  },
  "language_info": {
   "codemirror_mode": {
    "name": "ipython",
    "version": 3.0
   },
   "file_extension": ".py",
   "mimetype": "text/x-python",
   "name": "python",
   "nbconvert_exporter": "python",
   "pygments_lexer": "ipython3",
   "version": "3.6.2"
  },
  "latex_envs": {
   "LaTeX_envs_menu_present": true,
   "autocomplete": true,
   "bibliofile": "biblio.bib",
   "cite_by": "apalike",
   "current_citInitial": 1.0,
   "eqLabelWithNumbers": true,
   "eqNumInitial": 1.0,
   "hotkeys": {
    "equation": "Ctrl-E",
    "itemize": "Ctrl-I"
   },
   "labels_anchors": false,
   "latex_user_defs": false,
   "report_style_numbering": false,
   "user_envs_cfg": false
  },
  "toc": {
   "nav_menu": {},
   "number_sections": true,
   "sideBar": true,
   "skip_h1_title": false,
   "toc_cell": false,
   "toc_position": {},
   "toc_section_display": "block",
   "toc_window_display": false
  }
 },
 "nbformat": 4,
 "nbformat_minor": 0
}