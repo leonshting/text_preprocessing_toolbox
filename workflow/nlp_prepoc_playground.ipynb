{
 "cells": [
  {
   "cell_type": "code",
   "execution_count": 1,
   "metadata": {
    "collapsed": true
   },
   "outputs": [],
   "source": [
    "import sys\n",
    "sys.path.insert(0, '/Users/leonshting/Programming/Sberbank/preprocessing')"
   ]
  },
  {
   "cell_type": "code",
   "execution_count": 2,
   "metadata": {
    "collapsed": true
   },
   "outputs": [],
   "source": [
    "import string\n",
    "import re\n",
    "import json"
   ]
  },
  {
   "cell_type": "code",
   "execution_count": 3,
   "metadata": {
    "collapsed": true
   },
   "outputs": [],
   "source": [
    "alphabet = {\n",
    "    'rus': ''.join([chr(i) for i in range(ord('а'), ord('я')+1)]),\n",
    "    'eng': ''.join([chr(i) for i in range(ord('a'), ord('z')+1)])\n",
    "}"
   ]
  },
  {
   "cell_type": "code",
   "execution_count": null,
   "metadata": {
    "collapsed": true
   },
   "outputs": [],
   "source": [
    "config_like = {\n",
    "    'BASE_DICT_DIR': '/home/ALPHA/shtanko-la/Programming/preprocessing/dicts',\n",
    "    'html_filter': {\n",
    "        'file': 'html_pattern_file.json',\n",
    "        'filter_kind': 'single_replace',\n",
    "        'replace_with': ' ',\n",
    "        'embracements': 'false'\n",
    "    },\n",
    "    'synonyms_filter': {\n",
    "        'file': 'synonym_pattern_file.json',\n",
    "        'filter_kind': 'multiple_replace',\n",
    "        'embracements': 'true'\n",
    "    },\n",
    "}"
   ]
  },
  {
   "cell_type": "code",
   "execution_count": null,
   "metadata": {
    "collapsed": true
   },
   "outputs": [],
   "source": [
    "rare_chars = '№-:\\\"'"
   ]
  },
  {
   "cell_type": "code",
   "execution_count": null,
   "metadata": {
    "collapsed": true
   },
   "outputs": [],
   "source": [
    "front = r\"\\&*\"\n",
    "back = r\";*\"\n",
    "html_residuals = [\n",
    "    r\"ndash\", r\"raquo\", r\"laquo\", r\"\\\\ufeff\", r\"amp\", r\"quot\"\n",
    "]\n",
    "html_patterns = [front + i + back for i in html_residuals]"
   ]
  },
  {
   "cell_type": "code",
   "execution_count": null,
   "metadata": {
    "collapsed": true
   },
   "outputs": [],
   "source": [
    "with open('../dicts/rare_chars.json', 'w') as f:\n",
    "    json.dump(fp=f, obj=rare_chars, separators=(',\\n', ': '), ensure_ascii=False)"
   ]
  },
  {
   "cell_type": "code",
   "execution_count": null,
   "metadata": {
    "collapsed": true
   },
   "outputs": [],
   "source": [
    "with open('../dicts/html_residuals_patterns.json', 'w') as f:\n",
    "    json.dump(fp=f, obj=html_patterns, separators=(',\\n', ': '))"
   ]
  },
  {
   "cell_type": "code",
   "execution_count": null,
   "metadata": {
    "collapsed": true
   },
   "outputs": [],
   "source": [
    "with open('../config.json', 'w') as f:\n",
    "    json.dump(fp=f, obj=config_like, separators=(',\\n', ': '))"
   ]
  },
  {
   "cell_type": "markdown",
   "metadata": {},
   "source": [
    "### Test Filters"
   ]
  },
  {
   "cell_type": "code",
   "execution_count": 9,
   "metadata": {},
   "outputs": [],
   "source": [
    "from filters import BaseFilter, StaticFilter, SynonymReplacer"
   ]
  },
  {
   "cell_type": "code",
   "execution_count": null,
   "metadata": {},
   "outputs": [],
   "source": [
    "fltr = StaticFilter.StaticFilter(pattern_file='../dicts/html_residuals_patterns.json',embrace=False)"
   ]
  },
  {
   "cell_type": "code",
   "execution_count": null,
   "metadata": {},
   "outputs": [],
   "source": [
    "fltr.filter_string('&&amp;;amp;amp;amp;amp;попооппо')"
   ]
  },
  {
   "cell_type": "code",
   "execution_count": null,
   "metadata": {
    "collapsed": true
   },
   "outputs": [],
   "source": [
    "fltr2 = StaticFilter.StaticFilter(pattern_file='../dicts/rare_chars.json', embrace=False)"
   ]
  },
  {
   "cell_type": "code",
   "execution_count": null,
   "metadata": {},
   "outputs": [],
   "source": [
    "fltr2._final_patterns"
   ]
  },
  {
   "cell_type": "code",
   "execution_count": null,
   "metadata": {},
   "outputs": [],
   "source": [
    "fltr2.filter_string('выывав №1 ыввыв')"
   ]
  },
  {
   "cell_type": "code",
   "execution_count": 10,
   "metadata": {},
   "outputs": [],
   "source": [
    "synrpl = SynonymReplacer.SynonymReplacer(embrace=True,\n",
    "                                         pattern_file='../dicts/synonym_dict.json',\n",
    "                                         rpl_w_token=True,\n",
    "                                         token_file='../dicts/word2token.json'\n",
    "                                        )"
   ]
  },
  {
   "cell_type": "code",
   "execution_count": 4,
   "metadata": {
    "collapsed": true
   },
   "outputs": [],
   "source": [
    "from latin2cyrillic import Latin2Cyrillic"
   ]
  },
  {
   "cell_type": "code",
   "execution_count": 5,
   "metadata": {
    "collapsed": true
   },
   "outputs": [],
   "source": [
    "lcfilter = Latin2Cyrillic.Latin2Cyrillic()"
   ]
  },
  {
   "cell_type": "code",
   "execution_count": 14,
   "metadata": {},
   "outputs": [
    {
     "data": {
      "text/plain": [
       "'банк жуткий. CHECKOUT_ACC ?.кровать плохая'"
      ]
     },
     "execution_count": 14,
     "metadata": {},
     "output_type": "execute_result"
    }
   ],
   "source": [
    "synrpl.filter_string(s='банк жуткий.расчетный счет?.кровать плохая')"
   ]
  },
  {
   "cell_type": "code",
   "execution_count": null,
   "metadata": {
    "collapsed": true
   },
   "outputs": [],
   "source": []
  }
 ],
 "metadata": {
  "kernelspec": {
   "display_name": "Python 3",
   "language": "python",
   "name": "python3"
  },
  "language_info": {
   "codemirror_mode": {
    "name": "ipython",
    "version": 3
   },
   "file_extension": ".py",
   "mimetype": "text/x-python",
   "name": "python",
   "nbconvert_exporter": "python",
   "pygments_lexer": "ipython3",
   "version": "3.6.0"
  }
 },
 "nbformat": 4,
 "nbformat_minor": 2
}
