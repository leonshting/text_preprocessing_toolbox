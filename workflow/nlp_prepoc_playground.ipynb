{
 "cells": [
  {
   "cell_type": "code",
   "execution_count": 10,
   "metadata": {
    "collapsed": true
   },
   "outputs": [],
   "source": [
    "import string\n",
    "import re\n",
    "import json"
   ]
  },
  {
   "cell_type": "code",
   "execution_count": 11,
   "metadata": {
    "collapsed": true
   },
   "outputs": [],
   "source": [
    "alphabet = {\n",
    "    'rus': ''.join([chr(i) for i in range(ord('а'), ord('я')+1)]),\n",
    "    'eng': ''.join([chr(i) for i in range(ord('a'), ord('z')+1)])\n",
    "}"
   ]
  },
  {
   "cell_type": "code",
   "execution_count": 8,
   "metadata": {},
   "outputs": [],
   "source": [
    "config_like = {\n",
    "    'BASE_DICT_DIR': '/home/ALPHA/shtanko-la/Programming/preprocessing/dicts',\n",
    "    'html_filter': {\n",
    "        'file': 'html_pattern_file.json',\n",
    "        'filter_kind': 'single_replace',\n",
    "        'replace_with': ' ',\n",
    "    },\n",
    "    'synonyms_filter': {\n",
    "        'file': 'synonym_pattern_file.json',\n",
    "        'filter_kind': 'wise_replace',\n",
    "    },\n",
    "}"
   ]
  },
  {
   "cell_type": "code",
   "execution_count": 18,
   "metadata": {},
   "outputs": [],
   "source": [
    "with open('../config.json', 'w') as f:\n",
    "    json.dump(fp=f, obj=config_like, separators=(',\\n', ': '))"
   ]
  },
  {
   "cell_type": "code",
   "execution_count": null,
   "metadata": {
    "collapsed": true
   },
   "outputs": [],
   "source": []
  }
 ],
 "metadata": {
  "kernelspec": {
   "display_name": "Python 3",
   "language": "python",
   "name": "python3"
  },
  "language_info": {
   "codemirror_mode": {
    "name": "ipython",
    "version": 3
   },
   "file_extension": ".py",
   "mimetype": "text/x-python",
   "name": "python",
   "nbconvert_exporter": "python",
   "pygments_lexer": "ipython3",
   "version": "3.6.3"
  }
 },
 "nbformat": 4,
 "nbformat_minor": 2
}
