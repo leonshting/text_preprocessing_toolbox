{
 "cells": [
  {
   "cell_type": "code",
   "execution_count": 1,
   "metadata": {
    "collapsed": true
   },
   "outputs": [],
   "source": [
    "import pandas as pd\n",
    "import re\n",
    "from collections import Counter\n",
    "\n",
    "from tqdm import tqdm, tqdm_pandas\n",
    "from tqdm._tqdm_notebook import tqdm_notebook"
   ]
  },
  {
   "cell_type": "code",
   "execution_count": 2,
   "metadata": {
    "collapsed": true
   },
   "outputs": [],
   "source": [
    "import sys\n",
    "sys.path.insert(0, '/Users/leonshting/Programming/Sberbank/')\n",
    "from preprocessing.prod.ConfigParser import ConfigParser\n",
    "from preprocessing.word_relation import substitute\n",
    "from preprocessing.prod.dict_parsers.GraphDictParser import GraphDictParser\n",
    "from syntax_tree_utils.requester.syntaxnet_wrapper import SyntaxNetWrapper\n",
    "from syntax_tree_utils.tree_utils.preprocessing_tree_cut import TreeCut\n",
    "from routines import file_routines"
   ]
  },
  {
   "cell_type": "code",
   "execution_count": 3,
   "metadata": {
    "collapsed": true
   },
   "outputs": [],
   "source": [
    "dd = substitute.DeepestGraphSubstitute(config_file='../config.json')\n",
    "preprocess_util = ConfigParser(config_file='../config.json')"
   ]
  },
  {
   "cell_type": "code",
   "execution_count": 4,
   "metadata": {},
   "outputs": [
    {
     "data": {
      "text/plain": [
       "[{'ACCOUNT': ['CURRENCY'],\n",
       "  'DESIGN': ['NEW', 'OLD'],\n",
       "  'PHONE_NUMBER': ['NEW', 'OLD'],\n",
       "  'SIM_CARD': ['OLD', 'NEW']}]"
      ]
     },
     "execution_count": 4,
     "metadata": {},
     "output_type": "execute_result"
    }
   ],
   "source": [
    "dd.feat_graphs"
   ]
  },
  {
   "cell_type": "code",
   "execution_count": null,
   "metadata": {
    "collapsed": true
   },
   "outputs": [],
   "source": [
    "dd.graphs"
   ]
  },
  {
   "cell_type": "code",
   "execution_count": 5,
   "metadata": {
    "collapsed": true
   },
   "outputs": [],
   "source": [
    "cg = substitute.ClosestGraphSubstitute(config_file='../config.json')\n",
    "cc = substitute.ClosestContextSubstitute(config_file='../config.json')"
   ]
  },
  {
   "cell_type": "code",
   "execution_count": 6,
   "metadata": {},
   "outputs": [
    {
     "data": {
      "text/plain": [
       "[{'ACCOUNT': ['OBJECT', 'CURRENCY'],\n",
       "  'ACCOUNT_DETAILS': ['ACCOUNT'],\n",
       "  'ACCOUNT_LOG': ['ACCOUNT'],\n",
       "  'ACC_SYSTEM_1S': ['OBJECT'],\n",
       "  'APP': ['PHONE'],\n",
       "  'APPLIED_INVOICE': ['INVOICE'],\n",
       "  'AUTHORIZATION': ['OBJECT'],\n",
       "  'AUTH_FEAT': ['OBJECT'],\n",
       "  'BANK_SERVICE': ['SBRF'],\n",
       "  'BUSINESS_CARD': ['CARD'],\n",
       "  'BUSINESS_OFFICIAL': ['PERSON'],\n",
       "  'CARD': ['OBJECT'],\n",
       "  'CARDHOLDER': ['PERSON'],\n",
       "  'CERTIFICATE': ['AUTH_FEAT'],\n",
       "  'CHECKOUT_ACC': ['ACCOUNT'],\n",
       "  'CITIZEN_OFFICIAL': ['PERSON'],\n",
       "  'COMMISSION': ['ACTION'],\n",
       "  'CORPORATE_CARD': ['CARD'],\n",
       "  'COST': ['ACTION'],\n",
       "  'CREDIT': ['BANK_SERVICE'],\n",
       "  'CURRENCY': ['MONEY'],\n",
       "  'C_AGENT': ['OBJECT'],\n",
       "  'DEPOSIT': ['BANK_SERVICE'],\n",
       "  'DESIGN': ['OBJECT', 'NEW', 'OLD'],\n",
       "  'DOCUMENT': ['OBJECT'],\n",
       "  'DOLLAR': ['CURRENCY'],\n",
       "  'EMAIL': ['AUTH_FEAT'],\n",
       "  'EQUIRING': ['BANK_SERVICE'],\n",
       "  'ERROR': ['OBJECT'],\n",
       "  'EURO': ['CURRENCY'],\n",
       "  'GOOD_UNTIL': ['TIME_PERIOD'],\n",
       "  'GOVERN_WORK': ['OBJECT'],\n",
       "  'INCOME': ['OBJECT'],\n",
       "  'IND_BUSSINESS': ['BUSINESS_OFFICIAL'],\n",
       "  'INVOICE': ['DOCUMENT'],\n",
       "  'LIMIT': ['OBJECT'],\n",
       "  'LIMIT_ON': ['LIMIT'],\n",
       "  'MONEY': ['OBJECT'],\n",
       "  'NOTIFICATION': ['OBJECT'],\n",
       "  'OUTCOME': ['OBJECT'],\n",
       "  'PAYMENT': ['OBJECT'],\n",
       "  'PERSONAL_TAX_ID': ['TAX'],\n",
       "  'PHONE': ['OBJECT'],\n",
       "  'PHONE_NUMBER': ['PHONE', 'NEW', 'OLD'],\n",
       "  'PIN_CODE': ['AUTH_FEAT'],\n",
       "  'PUK_CODE': ['AUTH_FEAT'],\n",
       "  'RECIPIENT': ['PERSON'],\n",
       "  'REGISTRY': ['OBJECT'],\n",
       "  'RESIDUAL': ['OBJECT'],\n",
       "  'ROUBLE': ['CURRENCY'],\n",
       "  'SALARY': ['OBJECT'],\n",
       "  'SALARY_CARD': ['CARD'],\n",
       "  'SALARY_PROJECT': ['SALARY'],\n",
       "  'SBBOL': ['SBRF'],\n",
       "  'SBRF': ['OBJECT'],\n",
       "  'SIM_CARD': ['PHONE', 'OLD', 'NEW'],\n",
       "  'SMS': ['PHONE'],\n",
       "  'STAGE': ['OBJECT'],\n",
       "  'STATUS': ['OBJECT'],\n",
       "  'SUPPORT': ['OBJECT'],\n",
       "  'TAX': ['OBJECT'],\n",
       "  'TAX_SERVICE': ['TAX'],\n",
       "  'TIME_PERIOD': ['OBJECT'],\n",
       "  'TRANSFER_ACC': ['ACCOUNT'],\n",
       "  'WORKER': ['OBJECT']},\n",
       " {'ACCEPT_STAGE': ['ACCEPT', 'STAGE'],\n",
       "  'DELETE_LIMIT': ['DELETE', 'LIMIT'],\n",
       "  'NEW_DESIGN': ['DESIGN', 'OLD'],\n",
       "  'NOT_ACCEPT_STAGE': ['ACCEPT', 'STAGE'],\n",
       "  'OLD_DESIGN': ['DESIGN', 'OLD'],\n",
       "  'SETUP_LIMIT': ['LIMIT', 'SETUP'],\n",
       "  'TRANSFER_COMMON': ['TRANSFER', 'ACCOUNT'],\n",
       "  'TRANSFER_FROM_ACC': ['TRANSFER', 'ACCOUNT'],\n",
       "  'TRANSFER_TO_ACC': ['TRANSFER', 'ACCOUNT']},\n",
       " {'ACCEPT': ['ACTION'],\n",
       "  'ADD': ['ACTION'],\n",
       "  'APPLY': ['WRITE'],\n",
       "  'ATTACH': ['ADD'],\n",
       "  'AUTHORIZE': ['ACTION'],\n",
       "  'BE': ['ACTION'],\n",
       "  'BLOCK': ['ACTION'],\n",
       "  'CAN': ['ACTION'],\n",
       "  'CANCEL': ['REVERT'],\n",
       "  'CANNOT': ['CAN'],\n",
       "  'CHANGE': ['ACTION'],\n",
       "  'CHANGE_TO': ['CHANGE'],\n",
       "  'CHECK': ['ACTION'],\n",
       "  'CLOSE': ['ACTION'],\n",
       "  'COMPLAIN': ['ACTION'],\n",
       "  'CONFIRM': ['AUTHORIZE'],\n",
       "  'COPY': ['ACTION'],\n",
       "  'CREATE': ['ACTION'],\n",
       "  'DELETE': ['ACTION'],\n",
       "  'DO': ['ACTION'],\n",
       "  'DOWNLOAD': ['LOAD'],\n",
       "  'EXPORT': ['OUTPUT'],\n",
       "  'FULFILL': ['ADD'],\n",
       "  'GET': ['OBTAIN'],\n",
       "  'GIVE_DETAIL': ['ACTION'],\n",
       "  'IMPORT': ['ADD'],\n",
       "  'ISSUE': ['OPEN'],\n",
       "  'LOAD': ['ACTION'],\n",
       "  'NEED': ['ACTION'],\n",
       "  'OBTAIN': ['ACTION'],\n",
       "  'OPEN': ['ACTION'],\n",
       "  'ORDER': ['ACTION'],\n",
       "  'OUTPUT': ['ACTION'],\n",
       "  'PAY': ['ACTION'],\n",
       "  'POINT': ['GIVE_DETAIL'],\n",
       "  'PRINT': ['OUTPUT'],\n",
       "  'REFRESH': ['ACTION'],\n",
       "  'RETURN': ['ACTION'],\n",
       "  'REVERT': ['RETURN'],\n",
       "  'SAVE': ['OUTPUT'],\n",
       "  'SEND': ['ACTION'],\n",
       "  'SETUP': ['ADD'],\n",
       "  'SIGN_IN': ['OPEN'],\n",
       "  'TRANSFER': ['SEND'],\n",
       "  'TURN_OFF': ['ACTION'],\n",
       "  'TURN_ON': ['ACTION'],\n",
       "  'WANT': ['ACTION'],\n",
       "  'WITHDRAW': ['ACTION'],\n",
       "  'WORK': ['ACTION'],\n",
       "  'WRITE': ['ACTION']},\n",
       " {'NEW': ['FEATURE'], 'OLD': ['FEATURE'], 'UNCOMFORTABLE_OR_BAD': ['FEATURE']}]"
      ]
     },
     "execution_count": 6,
     "metadata": {},
     "output_type": "execute_result"
    }
   ],
   "source": [
    "cc.graphs"
   ]
  },
  {
   "cell_type": "code",
   "execution_count": 9,
   "metadata": {},
   "outputs": [
    {
     "data": {
      "text/plain": [
       "defaultdict(list, {'FEATURE': ['OLD']})"
      ]
     },
     "execution_count": 9,
     "metadata": {},
     "output_type": "execute_result"
    }
   ],
   "source": [
    "cc.subs_dict('OLD')"
   ]
  },
  {
   "cell_type": "code",
   "execution_count": null,
   "metadata": {
    "collapsed": true
   },
   "outputs": [],
   "source": [
    "cg.feat_dict([\"DESIGN\"])"
   ]
  },
  {
   "cell_type": "code",
   "execution_count": null,
   "metadata": {
    "collapsed": true
   },
   "outputs": [],
   "source": [
    "cg.subs_dict(\"TRANSFER\")"
   ]
  },
  {
   "cell_type": "code",
   "execution_count": null,
   "metadata": {
    "collapsed": true
   },
   "outputs": [],
   "source": [
    "ss = SyntaxNetWrapper()"
   ]
  },
  {
   "cell_type": "code",
   "execution_count": null,
   "metadata": {
    "collapsed": true
   },
   "outputs": [],
   "source": [
    "tt = TreeCut()"
   ]
  },
  {
   "cell_type": "code",
   "execution_count": null,
   "metadata": {
    "collapsed": true
   },
   "outputs": [],
   "source": [
    "dd.subs_dict('CREATE INVOICE')"
   ]
  },
  {
   "cell_type": "code",
   "execution_count": null,
   "metadata": {
    "collapsed": true
   },
   "outputs": [],
   "source": [
    "preprocess_util.filter_string('отправить пп')"
   ]
  },
  {
   "cell_type": "code",
   "execution_count": null,
   "metadata": {
    "collapsed": true
   },
   "outputs": [],
   "source": [
    "preprocess_util.filter_string('поменялась сим карта, не могу войти в мобильный банк. как решить этот вопрос')"
   ]
  },
  {
   "cell_type": "code",
   "execution_count": null,
   "metadata": {
    "collapsed": true
   },
   "outputs": [],
   "source": [
    "dd.subs_dict(preprocess_util.filter_string('поменялась сим карта, не могу логиниться в мобильный банк. как решить этот вопрос'))"
   ]
  },
  {
   "cell_type": "code",
   "execution_count": null,
   "metadata": {
    "collapsed": true
   },
   "outputs": [],
   "source": [
    "from bot_router.classifier_wrapper.predefined.match_classifiers import SentenceFieldsClassifier, TreeFieldsClassifier\n",
    "from bot_router.classifier_wrapper.predefined.equality_classifiers import SentenceEqClassifier"
   ]
  },
  {
   "cell_type": "code",
   "execution_count": null,
   "metadata": {
    "collapsed": true
   },
   "outputs": [],
   "source": [
    "seq = SentenceEqClassifier(field_values={\"OBJECT\": [\"INVOICE\"], \"ACTION\": [\"SEND\"]})"
   ]
  },
  {
   "cell_type": "code",
   "execution_count": null,
   "metadata": {
    "collapsed": true
   },
   "outputs": [],
   "source": [
    "seq2 = SentenceEqClassifier(field_values={\"DESIGN\": [\"OLD\", \"NEW\"]}, graph_substitute_util=substitute.ClosestGraphSubstitute)"
   ]
  },
  {
   "cell_type": "code",
   "execution_count": null,
   "metadata": {
    "collapsed": true
   },
   "outputs": [],
   "source": [
    "seq2.score(sentence='старый')"
   ]
  },
  {
   "cell_type": "code",
   "execution_count": null,
   "metadata": {
    "collapsed": true
   },
   "outputs": [],
   "source": [
    "seq.score(sentence='как отправить пп и войти в онлайн банк?')"
   ]
  },
  {
   "cell_type": "code",
   "execution_count": null,
   "metadata": {
    "collapsed": true
   },
   "outputs": [],
   "source": [
    "ss = SentenceFieldsClassifier(fields=[\"OBJECT\", \"ACTION\"])"
   ]
  },
  {
   "cell_type": "code",
   "execution_count": null,
   "metadata": {
    "collapsed": true
   },
   "outputs": [],
   "source": [
    "st = TreeFieldsClassifier(fields=[\"OBJECT\", \"ACTION\"])"
   ]
  },
  {
   "cell_type": "code",
   "execution_count": null,
   "metadata": {
    "collapsed": true
   },
   "outputs": [],
   "source": [
    "ss.score(sentence='как мне сделать платежное поручение?')"
   ]
  },
  {
   "cell_type": "code",
   "execution_count": null,
   "metadata": {
    "collapsed": true
   },
   "outputs": [],
   "source": [
    "data = pd.read_excel('../../tech_support/tech_november.xlsx')"
   ]
  },
  {
   "cell_type": "code",
   "execution_count": null,
   "metadata": {
    "collapsed": true
   },
   "outputs": [],
   "source": [
    "data_corp = data[data.EVENT_OWNER == 'CORPORATE']"
   ]
  },
  {
   "cell_type": "code",
   "execution_count": null,
   "metadata": {
    "collapsed": true
   },
   "outputs": [],
   "source": [
    "preprocess_util = ConfigParser(config_file='../config.json')"
   ]
  },
  {
   "cell_type": "code",
   "execution_count": null,
   "metadata": {
    "collapsed": true
   },
   "outputs": [],
   "source": [
    "data_corp.CHAT_ID.unique().shape"
   ]
  },
  {
   "cell_type": "code",
   "execution_count": null,
   "metadata": {
    "collapsed": true
   },
   "outputs": [],
   "source": [
    "data_corp_short = data_corp.loc[:50000]\n",
    "#data_corp_short = data_corp"
   ]
  },
  {
   "cell_type": "code",
   "execution_count": null,
   "metadata": {
    "collapsed": true,
    "scrolled": true
   },
   "outputs": [],
   "source": [
    "tqdm_notebook.pandas(tqdm())\n",
    "data_corp_short['proc'] = data_corp_short.progress_apply(lambda x: preprocess_util.filter_string(str(x['EVENT_MESSAGE'])), axis=1)"
   ]
  },
  {
   "cell_type": "code",
   "execution_count": null,
   "metadata": {
    "collapsed": true
   },
   "outputs": [],
   "source": [
    "pp = data_corp_short.proc.tolist()"
   ]
  },
  {
   "cell_type": "code",
   "execution_count": null,
   "metadata": {
    "collapsed": true
   },
   "outputs": [],
   "source": [
    "import json\n",
    "with open('../../preprocessing/dicts/actions_dict.json', 'r') as f:\n",
    "    act_d = json.load(fp=f)\n",
    "    \n",
    "with open('../../preprocessing/dicts/objects_dict.json', 'r') as f:\n",
    "    obj_d = json.load(fp=f)    "
   ]
  },
  {
   "cell_type": "code",
   "execution_count": null,
   "metadata": {
    "collapsed": true
   },
   "outputs": [],
   "source": [
    "ma = {}\n",
    "for k in obj_d:\n",
    "    ma[k] = 'OBJECT'\n",
    "for k in act_d:\n",
    "    ma[k] = 'ACTION'"
   ]
  },
  {
   "cell_type": "code",
   "execution_count": null,
   "metadata": {
    "collapsed": true
   },
   "outputs": [],
   "source": [
    "pp_filtered = [([ma.get(i, None) for i in p.split()]) for p in pp]"
   ]
  },
  {
   "cell_type": "code",
   "execution_count": null,
   "metadata": {
    "collapsed": true
   },
   "outputs": [],
   "source": [
    "data_corp_short.iloc[:40].EVENT_MESSAGE"
   ]
  },
  {
   "cell_type": "code",
   "execution_count": null,
   "metadata": {
    "collapsed": true
   },
   "outputs": [],
   "source": [
    "pp"
   ]
  },
  {
   "cell_type": "code",
   "execution_count": null,
   "metadata": {
    "collapsed": true
   },
   "outputs": [],
   "source": [
    "pp_filtered_tuples = [[(i,j) for i,j in \n",
    "                       zip(zip(p[:-1], p[1:]), zip(p2[:-1], p2[1:])) if i in \n",
    "                       [('OBJECT', 'ACTION'), ('ACTION', 'OBJECT')]]\n",
    "                      for p, p2 in zip(pp_filtered, [piy.split() for piy in pp])]"
   ]
  },
  {
   "cell_type": "code",
   "execution_count": null,
   "metadata": {
    "collapsed": true
   },
   "outputs": [],
   "source": [
    "pp_ff = [p for p in pp_filtered_tuples if len(p)!=0]"
   ]
  },
  {
   "cell_type": "code",
   "execution_count": null,
   "metadata": {
    "collapsed": true
   },
   "outputs": [],
   "source": [
    "from itertools import chain\n",
    "pp_ff2 = [p[1] for p in chain(*pp_ff)]"
   ]
  },
  {
   "cell_type": "code",
   "execution_count": null,
   "metadata": {
    "collapsed": true
   },
   "outputs": [],
   "source": [
    "Counter(pp_ff2).most_common()"
   ]
  },
  {
   "cell_type": "code",
   "execution_count": null,
   "metadata": {
    "collapsed": true
   },
   "outputs": [],
   "source": [
    "def ngram_list_from_string(s, n_gram=2):\n",
    "    ret_list = []\n",
    "    spl = s.split()\n",
    "    slices = [slice(i, len(spl) - n_gram + i) for i in range(n_gram)]\n",
    "    sliced_spl = [spl[sl] for sl in slices]\n",
    "    for words in zip(*sliced_spl):\n",
    "        ret_list.append(\" \".join(words))\n",
    "    return ret_list\n",
    "\n",
    "def ngrams_from_list_of_strings(l, n_gram=2):\n",
    "    from itertools import chain\n",
    "    ngrams = []\n",
    "    for line in l:\n",
    "        ngrams.append(ngram_list_from_string(line, n_gram=n_gram))\n",
    "    return list(chain(*ngrams))"
   ]
  },
  {
   "cell_type": "code",
   "execution_count": null,
   "metadata": {
    "collapsed": true
   },
   "outputs": [],
   "source": [
    "gram1 = ngrams_from_list_of_strings(data_corp_short.proc.tolist(), n_gram=1)\n",
    "gram2 = ngrams_from_list_of_strings(data_corp_short.proc.tolist())\n",
    "gram3 = ngrams_from_list_of_strings(data_corp_short.proc.tolist(), n_gram=3)\n",
    "gram4 = ngrams_from_list_of_strings(data_corp_short.proc.tolist(), n_gram=4)"
   ]
  },
  {
   "cell_type": "code",
   "execution_count": null,
   "metadata": {
    "collapsed": true
   },
   "outputs": [],
   "source": [
    "grams = [ngrams_from_list_of_strings(data_corp_short.proc.tolist(), n_gram=i) for i in range(5,15)]"
   ]
  },
  {
   "cell_type": "code",
   "execution_count": null,
   "metadata": {
    "collapsed": true
   },
   "outputs": [],
   "source": [
    "len(set(gram2))"
   ]
  },
  {
   "cell_type": "code",
   "execution_count": null,
   "metadata": {
    "collapsed": true
   },
   "outputs": [],
   "source": [
    "cnt1 = Counter(gram1)\n",
    "cnt2 = Counter(gram2)\n",
    "cnt3 = Counter(gram3)\n",
    "cnt4 = Counter(gram4)"
   ]
  },
  {
   "cell_type": "code",
   "execution_count": null,
   "metadata": {
    "collapsed": true
   },
   "outputs": [],
   "source": [
    "cnts = [Counter(gr) for gr in grams]"
   ]
  },
  {
   "cell_type": "code",
   "execution_count": null,
   "metadata": {
    "collapsed": true,
    "scrolled": true
   },
   "outputs": [],
   "source": [
    "cnt2.most_common()"
   ]
  },
  {
   "cell_type": "code",
   "execution_count": null,
   "metadata": {
    "collapsed": true
   },
   "outputs": [],
   "source": [
    "cnt1.most_common()"
   ]
  },
  {
   "cell_type": "code",
   "execution_count": null,
   "metadata": {
    "collapsed": true
   },
   "outputs": [],
   "source": [
    "import pymystem3\n",
    "import pymorphy2"
   ]
  },
  {
   "cell_type": "code",
   "execution_count": null,
   "metadata": {
    "collapsed": true
   },
   "outputs": [],
   "source": [
    "st = pymystem3.Mystem()"
   ]
  },
  {
   "cell_type": "code",
   "execution_count": null,
   "metadata": {
    "collapsed": true
   },
   "outputs": [],
   "source": [
    "st.analyze('свой мой твой')"
   ]
  },
  {
   "cell_type": "code",
   "execution_count": null,
   "metadata": {
    "collapsed": true
   },
   "outputs": [],
   "source": [
    "an = pymorphy2.MorphAnalyzer()"
   ]
  },
  {
   "cell_type": "code",
   "execution_count": null,
   "metadata": {
    "collapsed": true
   },
   "outputs": [],
   "source": [
    "an.parse('свой')"
   ]
  },
  {
   "cell_type": "code",
   "execution_count": null,
   "metadata": {
    "collapsed": true
   },
   "outputs": [],
   "source": [
    "act_d2 = {k: {'synonyms': v, 'parents': ['ACTION']} for k,v in act_d.items()}"
   ]
  },
  {
   "cell_type": "code",
   "execution_count": null,
   "metadata": {
    "collapsed": true
   },
   "outputs": [],
   "source": [
    "act_d3 = {'tokens': act_d2, 'type': 'ACTION' }"
   ]
  },
  {
   "cell_type": "code",
   "execution_count": null,
   "metadata": {
    "collapsed": true
   },
   "outputs": [],
   "source": [
    "with open('../dicts_beta/actions_dict.json', 'w') as f:\n",
    "    json.dump(act_d3, fp=f, ensure_ascii=False)"
   ]
  },
  {
   "cell_type": "code",
   "execution_count": null,
   "metadata": {
    "collapsed": true
   },
   "outputs": [],
   "source": [
    "obj_d2 = {k: {'synonyms': v, 'parents': ['OBJECT']} for k,v in obj_d.items()}"
   ]
  },
  {
   "cell_type": "code",
   "execution_count": null,
   "metadata": {
    "collapsed": true
   },
   "outputs": [],
   "source": [
    "obj_d3 = {'tokens': obj_d2, 'type': 'OBJECT' }"
   ]
  },
  {
   "cell_type": "code",
   "execution_count": null,
   "metadata": {
    "collapsed": true
   },
   "outputs": [],
   "source": [
    "with open('../dicts_graph/objects_dict.json', 'w') as f:\n",
    "    json.dump(obj_d3, fp=f, ensure_ascii=False)"
   ]
  },
  {
   "cell_type": "code",
   "execution_count": null,
   "metadata": {
    "collapsed": true
   },
   "outputs": [],
   "source": [
    "from pymystem3 import Mystem"
   ]
  },
  {
   "cell_type": "code",
   "execution_count": null,
   "metadata": {
    "collapsed": true
   },
   "outputs": [],
   "source": [
    "ms = Mystem()"
   ]
  },
  {
   "cell_type": "code",
   "execution_count": null,
   "metadata": {
    "collapsed": true
   },
   "outputs": [],
   "source": [
    "ms.lemmatize('откатить платежное поручение')"
   ]
  },
  {
   "cell_type": "code",
   "execution_count": null,
   "metadata": {
    "collapsed": true
   },
   "outputs": [],
   "source": []
  }
 ],
 "metadata": {
  "kernelspec": {
   "display_name": "Python 3",
   "language": "python",
   "name": "python3"
  },
  "language_info": {
   "codemirror_mode": {
    "name": "ipython",
    "version": 3
   },
   "file_extension": ".py",
   "mimetype": "text/x-python",
   "name": "python",
   "nbconvert_exporter": "python",
   "pygments_lexer": "ipython3",
   "version": "3.6.3"
  }
 },
 "nbformat": 4,
 "nbformat_minor": 2
}
