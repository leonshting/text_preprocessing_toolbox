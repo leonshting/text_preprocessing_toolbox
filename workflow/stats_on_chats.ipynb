{
 "cells": [
  {
   "cell_type": "code",
   "execution_count": 4,
   "metadata": {
    "collapsed": true
   },
   "outputs": [],
   "source": [
    "import pandas as pd\n",
    "import re\n",
    "from collections import Counter\n",
    "\n",
    "from tqdm import tqdm, tqdm_pandas\n",
    "from tqdm._tqdm_notebook import tqdm_notebook"
   ]
  },
  {
   "cell_type": "code",
   "execution_count": 5,
   "metadata": {},
   "outputs": [],
   "source": [
    "import sys\n",
    "sys.path.insert(0, '/Users/leonshting/Programming/Sberbank/')\n",
    "from preprocessing.prod.ConfigParser import ConfigParser\n",
    "from preprocessing.word_relation import substitute\n",
    "from syntax_tree_utils.requester.syntaxnet_wrapper import SyntaxNetWrapper\n",
    "from syntax_tree_utils.tree_utils.preprocessing_tree_cut import TreeCut\n",
    "from routines import file_routines"
   ]
  },
  {
   "cell_type": "code",
   "execution_count": 16,
   "metadata": {},
   "outputs": [],
   "source": [
    "dd = substitute.DeepestGraphSubstitute(config_file='../config.json')\n",
    "preprocess_util = ConfigParser(config_file='../config.json')"
   ]
  },
  {
   "cell_type": "code",
   "execution_count": null,
   "metadata": {
    "collapsed": true
   },
   "outputs": [],
   "source": [
    "ss = SyntaxNetWrapper()"
   ]
  },
  {
   "cell_type": "code",
   "execution_count": null,
   "metadata": {
    "collapsed": true
   },
   "outputs": [],
   "source": [
    "tt = TreeCut()"
   ]
  },
  {
   "cell_type": "code",
   "execution_count": 19,
   "metadata": {},
   "outputs": [
    {
     "data": {
      "text/plain": [
       "defaultdict(list, {})"
      ]
     },
     "execution_count": 19,
     "metadata": {},
     "output_type": "execute_result"
    }
   ],
   "source": [
    "dd.subs_dict('отправить пп')"
   ]
  },
  {
   "cell_type": "code",
   "execution_count": 18,
   "metadata": {},
   "outputs": [
    {
     "data": {
      "text/plain": [
       "' SEND  INVOICE'"
      ]
     },
     "execution_count": 18,
     "metadata": {},
     "output_type": "execute_result"
    }
   ],
   "source": [
    "preprocess_util.filter_string('отправить пп')"
   ]
  },
  {
   "cell_type": "code",
   "execution_count": null,
   "metadata": {},
   "outputs": [],
   "source": [
    "preprocess_util.filter_string('поменялась сим карта, не могу войти в мобильный банк. как решить этот вопрос')"
   ]
  },
  {
   "cell_type": "code",
   "execution_count": 33,
   "metadata": {},
   "outputs": [
    {
     "data": {
      "text/plain": [
       "defaultdict(list,\n",
       "            {'ACTION': ['CHANGE', 'CAN', 'SIGN_IN'],\n",
       "             'OBJECT': ['SIM_CARD', 'SBBOL']})"
      ]
     },
     "execution_count": 33,
     "metadata": {},
     "output_type": "execute_result"
    }
   ],
   "source": [
    "dd.subs_dict(preprocess_util.filter_string('поменялась сим карта, не могу логиниться в мобильный банк. как решить этот вопрос'))"
   ]
  },
  {
   "cell_type": "code",
   "execution_count": 6,
   "metadata": {},
   "outputs": [],
   "source": [
    "from bot_router.classifier_wrapper.predefined.match_classifiers import SentenceFieldsClassifier, TreeFieldsClassifier\n",
    "from bot_router.classifier_wrapper.predefined.equality_classifiers import SentenceEqClassifier"
   ]
  },
  {
   "cell_type": "code",
   "execution_count": 31,
   "metadata": {},
   "outputs": [],
   "source": [
    "seq = SentenceEqClassifier(field_values={\"OBJECT\": [\"INVOICE\"], \"ACTION\": [\"SEND\"]})"
   ]
  },
  {
   "cell_type": "code",
   "execution_count": 32,
   "metadata": {},
   "outputs": [
    {
     "name": "stdout",
     "output_type": "stream",
     "text": [
      "defaultdict(<class 'list'>, {'OBJECT': ['INVOICE', 'SBBOL'], 'ACTION': ['SEND', 'SIGN_IN']})\n"
     ]
    },
    {
     "data": {
      "text/plain": [
       "True"
      ]
     },
     "execution_count": 32,
     "metadata": {},
     "output_type": "execute_result"
    }
   ],
   "source": [
    "seq.score(sentence='как отправить пп и войти в онлайн банк?')"
   ]
  },
  {
   "cell_type": "code",
   "execution_count": 25,
   "metadata": {},
   "outputs": [],
   "source": [
    "ss = SentenceFieldsClassifier(fields=[\"OBJECT\", \"ACTION\"])"
   ]
  },
  {
   "cell_type": "code",
   "execution_count": null,
   "metadata": {
    "collapsed": true
   },
   "outputs": [],
   "source": [
    "st = TreeFieldsClassifier(fields=[\"OBJECT\", \"ACTION\"])"
   ]
  },
  {
   "cell_type": "code",
   "execution_count": 27,
   "metadata": {},
   "outputs": [
    {
     "data": {
      "text/plain": [
       "True"
      ]
     },
     "execution_count": 27,
     "metadata": {},
     "output_type": "execute_result"
    }
   ],
   "source": [
    "ss.score(sentence='как мне сделать платежное поручение?')"
   ]
  },
  {
   "cell_type": "code",
   "execution_count": null,
   "metadata": {
    "collapsed": true
   },
   "outputs": [],
   "source": [
    "data = pd.read_excel('../../tech_support/tech_november.xlsx')"
   ]
  },
  {
   "cell_type": "code",
   "execution_count": null,
   "metadata": {
    "collapsed": true
   },
   "outputs": [],
   "source": [
    "data_corp = data[data.EVENT_OWNER == 'CORPORATE']"
   ]
  },
  {
   "cell_type": "code",
   "execution_count": null,
   "metadata": {
    "collapsed": true
   },
   "outputs": [],
   "source": [
    "preprocess_util = ConfigParser(config_file='../config.json')"
   ]
  },
  {
   "cell_type": "code",
   "execution_count": null,
   "metadata": {},
   "outputs": [],
   "source": [
    "data_corp.CHAT_ID.unique().shape"
   ]
  },
  {
   "cell_type": "code",
   "execution_count": null,
   "metadata": {
    "collapsed": true
   },
   "outputs": [],
   "source": [
    "data_corp_short = data_corp.loc[:50000]\n",
    "#data_corp_short = data_corp"
   ]
  },
  {
   "cell_type": "code",
   "execution_count": null,
   "metadata": {
    "scrolled": true
   },
   "outputs": [],
   "source": [
    "tqdm_notebook.pandas(tqdm())\n",
    "data_corp_short['proc'] = data_corp_short.progress_apply(lambda x: preprocess_util.filter_string(str(x['EVENT_MESSAGE'])), axis=1)"
   ]
  },
  {
   "cell_type": "code",
   "execution_count": null,
   "metadata": {
    "collapsed": true
   },
   "outputs": [],
   "source": [
    "pp = data_corp_short.proc.tolist()"
   ]
  },
  {
   "cell_type": "code",
   "execution_count": null,
   "metadata": {
    "collapsed": true
   },
   "outputs": [],
   "source": [
    "import json\n",
    "with open('../../preprocessing/dicts/actions_dict.json', 'r') as f:\n",
    "    act_d = json.load(fp=f)\n",
    "    \n",
    "with open('../../preprocessing/dicts/objects_dict.json', 'r') as f:\n",
    "    obj_d = json.load(fp=f)    "
   ]
  },
  {
   "cell_type": "code",
   "execution_count": null,
   "metadata": {
    "collapsed": true
   },
   "outputs": [],
   "source": [
    "ma = {}\n",
    "for k in obj_d:\n",
    "    ma[k] = 'OBJECT'\n",
    "for k in act_d:\n",
    "    ma[k] = 'ACTION'"
   ]
  },
  {
   "cell_type": "code",
   "execution_count": null,
   "metadata": {
    "collapsed": true
   },
   "outputs": [],
   "source": [
    "pp_filtered = [([ma.get(i, None) for i in p.split()]) for p in pp]"
   ]
  },
  {
   "cell_type": "code",
   "execution_count": null,
   "metadata": {
    "collapsed": true
   },
   "outputs": [],
   "source": [
    "data_corp_short.iloc[:40].EVENT_MESSAGE"
   ]
  },
  {
   "cell_type": "code",
   "execution_count": null,
   "metadata": {},
   "outputs": [],
   "source": [
    "pp"
   ]
  },
  {
   "cell_type": "code",
   "execution_count": null,
   "metadata": {
    "collapsed": true
   },
   "outputs": [],
   "source": [
    "pp_filtered_tuples = [[(i,j) for i,j in \n",
    "                       zip(zip(p[:-1], p[1:]), zip(p2[:-1], p2[1:])) if i in \n",
    "                       [('OBJECT', 'ACTION'), ('ACTION', 'OBJECT')]]\n",
    "                      for p, p2 in zip(pp_filtered, [piy.split() for piy in pp])]"
   ]
  },
  {
   "cell_type": "code",
   "execution_count": null,
   "metadata": {
    "collapsed": true
   },
   "outputs": [],
   "source": [
    "pp_ff = [p for p in pp_filtered_tuples if len(p)!=0]"
   ]
  },
  {
   "cell_type": "code",
   "execution_count": null,
   "metadata": {
    "collapsed": true
   },
   "outputs": [],
   "source": [
    "from itertools import chain\n",
    "pp_ff2 = [p[1] for p in chain(*pp_ff)]"
   ]
  },
  {
   "cell_type": "code",
   "execution_count": null,
   "metadata": {
    "collapsed": true
   },
   "outputs": [],
   "source": [
    "Counter(pp_ff2).most_common()"
   ]
  },
  {
   "cell_type": "code",
   "execution_count": null,
   "metadata": {
    "collapsed": true
   },
   "outputs": [],
   "source": [
    "def ngram_list_from_string(s, n_gram=2):\n",
    "    ret_list = []\n",
    "    spl = s.split()\n",
    "    slices = [slice(i, len(spl) - n_gram + i) for i in range(n_gram)]\n",
    "    sliced_spl = [spl[sl] for sl in slices]\n",
    "    for words in zip(*sliced_spl):\n",
    "        ret_list.append(\" \".join(words))\n",
    "    return ret_list\n",
    "\n",
    "def ngrams_from_list_of_strings(l, n_gram=2):\n",
    "    from itertools import chain\n",
    "    ngrams = []\n",
    "    for line in l:\n",
    "        ngrams.append(ngram_list_from_string(line, n_gram=n_gram))\n",
    "    return list(chain(*ngrams))"
   ]
  },
  {
   "cell_type": "code",
   "execution_count": null,
   "metadata": {
    "collapsed": true
   },
   "outputs": [],
   "source": [
    "gram1 = ngrams_from_list_of_strings(data_corp_short.proc.tolist(), n_gram=1)\n",
    "gram2 = ngrams_from_list_of_strings(data_corp_short.proc.tolist())\n",
    "gram3 = ngrams_from_list_of_strings(data_corp_short.proc.tolist(), n_gram=3)\n",
    "gram4 = ngrams_from_list_of_strings(data_corp_short.proc.tolist(), n_gram=4)"
   ]
  },
  {
   "cell_type": "code",
   "execution_count": null,
   "metadata": {
    "collapsed": true
   },
   "outputs": [],
   "source": [
    "grams = [ngrams_from_list_of_strings(data_corp_short.proc.tolist(), n_gram=i) for i in range(5,15)]"
   ]
  },
  {
   "cell_type": "code",
   "execution_count": null,
   "metadata": {
    "collapsed": true
   },
   "outputs": [],
   "source": [
    "len(set(gram2))"
   ]
  },
  {
   "cell_type": "code",
   "execution_count": null,
   "metadata": {
    "collapsed": true
   },
   "outputs": [],
   "source": [
    "cnt1 = Counter(gram1)\n",
    "cnt2 = Counter(gram2)\n",
    "cnt3 = Counter(gram3)\n",
    "cnt4 = Counter(gram4)"
   ]
  },
  {
   "cell_type": "code",
   "execution_count": null,
   "metadata": {
    "collapsed": true
   },
   "outputs": [],
   "source": [
    "cnts = [Counter(gr) for gr in grams]"
   ]
  },
  {
   "cell_type": "code",
   "execution_count": null,
   "metadata": {
    "collapsed": true,
    "scrolled": true
   },
   "outputs": [],
   "source": [
    "cnt2.most_common()"
   ]
  },
  {
   "cell_type": "code",
   "execution_count": null,
   "metadata": {
    "collapsed": true
   },
   "outputs": [],
   "source": [
    "cnt1.most_common()"
   ]
  },
  {
   "cell_type": "code",
   "execution_count": null,
   "metadata": {
    "collapsed": true
   },
   "outputs": [],
   "source": [
    "import pymystem3\n",
    "import pymorphy2"
   ]
  },
  {
   "cell_type": "code",
   "execution_count": null,
   "metadata": {
    "collapsed": true
   },
   "outputs": [],
   "source": [
    "st = pymystem3.Mystem()"
   ]
  },
  {
   "cell_type": "code",
   "execution_count": null,
   "metadata": {
    "collapsed": true
   },
   "outputs": [],
   "source": [
    "st.analyze('свой мой твой')"
   ]
  },
  {
   "cell_type": "code",
   "execution_count": null,
   "metadata": {
    "collapsed": true
   },
   "outputs": [],
   "source": [
    "an = pymorphy2.MorphAnalyzer()"
   ]
  },
  {
   "cell_type": "code",
   "execution_count": null,
   "metadata": {
    "collapsed": true
   },
   "outputs": [],
   "source": [
    "an.parse('свой')"
   ]
  },
  {
   "cell_type": "code",
   "execution_count": null,
   "metadata": {
    "collapsed": true
   },
   "outputs": [],
   "source": [
    "act_d2 = {k: {'synonyms': v, 'parents': ['ACTION']} for k,v in act_d.items()}"
   ]
  },
  {
   "cell_type": "code",
   "execution_count": null,
   "metadata": {
    "collapsed": true
   },
   "outputs": [],
   "source": [
    "act_d3 = {'tokens': act_d2, 'type': 'ACTION' }"
   ]
  },
  {
   "cell_type": "code",
   "execution_count": null,
   "metadata": {
    "collapsed": true
   },
   "outputs": [],
   "source": [
    "with open('../dicts_beta/actions_dict.json', 'w') as f:\n",
    "    json.dump(act_d3, fp=f, ensure_ascii=False)"
   ]
  },
  {
   "cell_type": "code",
   "execution_count": null,
   "metadata": {
    "collapsed": true
   },
   "outputs": [],
   "source": [
    "obj_d2 = {k: {'synonyms': v, 'parents': ['OBJECT']} for k,v in obj_d.items()}"
   ]
  },
  {
   "cell_type": "code",
   "execution_count": null,
   "metadata": {
    "collapsed": true
   },
   "outputs": [],
   "source": [
    "obj_d3 = {'tokens': obj_d2, 'type': 'OBJECT' }"
   ]
  },
  {
   "cell_type": "code",
   "execution_count": null,
   "metadata": {
    "collapsed": true
   },
   "outputs": [],
   "source": [
    "with open('../dicts_graph/objects_dict.json', 'w') as f:\n",
    "    json.dump(obj_d3, fp=f, ensure_ascii=False)"
   ]
  },
  {
   "cell_type": "code",
   "execution_count": null,
   "metadata": {
    "collapsed": true
   },
   "outputs": [],
   "source": [
    "from pymystem3 import Mystem"
   ]
  },
  {
   "cell_type": "code",
   "execution_count": null,
   "metadata": {
    "collapsed": true
   },
   "outputs": [],
   "source": [
    "ms = Mystem()"
   ]
  },
  {
   "cell_type": "code",
   "execution_count": null,
   "metadata": {},
   "outputs": [],
   "source": [
    "ms.lemmatize('откатить платежное поручение')"
   ]
  },
  {
   "cell_type": "code",
   "execution_count": null,
   "metadata": {
    "collapsed": true
   },
   "outputs": [],
   "source": []
  }
 ],
 "metadata": {
  "kernelspec": {
   "display_name": "Python 3",
   "language": "python",
   "name": "python3"
  },
  "language_info": {
   "codemirror_mode": {
    "name": "ipython",
    "version": 3
   },
   "file_extension": ".py",
   "mimetype": "text/x-python",
   "name": "python",
   "nbconvert_exporter": "python",
   "pygments_lexer": "ipython3",
   "version": "3.6.0"
  }
 },
 "nbformat": 4,
 "nbformat_minor": 2
}
