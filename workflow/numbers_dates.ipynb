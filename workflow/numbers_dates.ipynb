{
 "cells": [
  {
   "cell_type": "code",
   "execution_count": 2,
   "metadata": {
    "collapsed": true
   },
   "outputs": [],
   "source": [
    "import sys\n",
    "sys.path.insert(0, '/Users/leonshting/Programming/Sberbank/preprocessing/')"
   ]
  },
  {
   "cell_type": "code",
   "execution_count": 29,
   "metadata": {
    "collapsed": true
   },
   "outputs": [],
   "source": [
    "import dateparser\n",
    "import pymystem3\n",
    "import pymorphy2\n",
    "import json"
   ]
  },
  {
   "cell_type": "code",
   "execution_count": 54,
   "metadata": {
    "collapsed": true
   },
   "outputs": [],
   "source": [
    "digit_dict = {\n",
    "    0: ['нуль', 'нулевой'],\n",
    "    1: ['один', 'первый'],\n",
    "    2: ['два', 'второй'],\n",
    "    3: ['три', 'третий'],\n",
    "    4: ['четыре', 'четвертый'],\n",
    "    5: ['пять', 'пятый'],\n",
    "    6: ['шесть', 'шестой'],\n",
    "    7: ['семь', 'седьмой'],\n",
    "    8: ['восемь', 'восьмой'],\n",
    "    9: ['девять', 'девятый'],\n",
    "    10: ['десять', 'десятый']\n",
    "}\n",
    "digit_dict = {str(k): v for k,v in digit_dict.items()}\n",
    "\n",
    "month_list = ['январь', 'февраль', 'март',\n",
    "              'апрель', 'май', 'июнь',\n",
    "              'июль', 'август', 'сентябрь',\n",
    "              'октябрь', 'ноябрь', 'декабрь']\n",
    "## most comprhensive first\n",
    "numeric_dict = {\n",
    "    'DATE': [r\"\\d{1,2}[\\.,:]\\d{1,2}[\\.,:]\\d{2,4}\"],\n",
    "    'DATE_OR_TIME': [r\"\\d{1,2}[\\.,:]\\d{2,4}\"],\n",
    "    'DEC_FRAC_OR_TIME': [r\"\\d+[\\.,:]\\d+\"],\n",
    "    'NUMBER': [r\"\\d+\"]\n",
    "}"
   ]
  },
  {
   "cell_type": "code",
   "execution_count": null,
   "metadata": {
    "collapsed": true
   },
   "outputs": [],
   "source": [
    "with open('../dicts/digit_dict.json', 'w') as f:\n",
    "    json.dump(obj=digit_dict, fp=f, ensure_ascii=False)"
   ]
  },
  {
   "cell_type": "code",
   "execution_count": null,
   "metadata": {
    "collapsed": true
   },
   "outputs": [],
   "source": [
    "with open('../dicts/month_dict.json', 'w') as f:\n",
    "    json.dump(obj=month_list, fp=f, ensure_ascii=False)"
   ]
  },
  {
   "cell_type": "code",
   "execution_count": 55,
   "metadata": {},
   "outputs": [],
   "source": [
    "with open('../dicts/numeric_dict.json', 'w') as f:\n",
    "    json.dump(obj=date_dict, fp=f, ensure_ascii=False)"
   ]
  },
  {
   "cell_type": "markdown",
   "metadata": {},
   "source": [
    "### Testing"
   ]
  },
  {
   "cell_type": "code",
   "execution_count": 10,
   "metadata": {},
   "outputs": [],
   "source": [
    "from filters.StaticFilter import StaticFilter\n",
    "from filters.SynonymReplacer import SynonymReplacer\n",
    "import re"
   ]
  },
  {
   "cell_type": "code",
   "execution_count": 58,
   "metadata": {},
   "outputs": [],
   "source": [
    "stf = StaticFilter(replace_string='MONTH', pattern_file='../dicts/month_dict.json', embrace=True)"
   ]
  },
  {
   "cell_type": "code",
   "execution_count": 59,
   "metadata": {},
   "outputs": [],
   "source": [
    "stf_number = SynonymReplacer(embrace=True, pattern_file='../dicts/digit_dict.json', rpl_w_token=False)"
   ]
  },
  {
   "cell_type": "code",
   "execution_count": 62,
   "metadata": {},
   "outputs": [
    {
     "data": {
      "text/plain": [
       "'десят'"
      ]
     },
     "execution_count": 62,
     "metadata": {},
     "output_type": "execute_result"
    }
   ],
   "source": [
    "stf_number.filter_string(s='десят')"
   ]
  },
  {
   "cell_type": "code",
   "execution_count": 43,
   "metadata": {},
   "outputs": [
    {
     "data": {
      "text/plain": [
       "' MONTH был моим самым'"
      ]
     },
     "execution_count": 43,
     "metadata": {},
     "output_type": "execute_result"
    }
   ],
   "source": [
    "stf.filter_string('январь был моим самым')"
   ]
  },
  {
   "cell_type": "code",
   "execution_count": 45,
   "metadata": {
    "collapsed": true
   },
   "outputs": [],
   "source": [
    "mst = pymystem3.Mystem()"
   ]
  },
  {
   "cell_type": "code",
   "execution_count": 46,
   "metadata": {},
   "outputs": [
    {
     "data": {
      "text/plain": [
       "' MONTH 26.06 быть мой самый'"
      ]
     },
     "execution_count": 46,
     "metadata": {},
     "output_type": "execute_result"
    }
   ],
   "source": [
    "stf.filter_string(''.join(mst.lemmatize(text='январь,! 26.06 был моим самым')[:-1]))"
   ]
  },
  {
   "cell_type": "code",
   "execution_count": 31,
   "metadata": {},
   "outputs": [],
   "source": [
    "syn_rpl_date = SynonymReplacer(embrace=True, pattern_file='../dicts/numeric_dict.json', rpl_w_token=False)"
   ]
  },
  {
   "cell_type": "code",
   "execution_count": 32,
   "metadata": {},
   "outputs": [
    {
     "data": {
      "text/plain": [
       "{'DATE': ['^(?P<begin>[\\\\s\\\\(])*((\\\\d{1,2}[\\\\.,:]\\\\d{1,2}[\\\\.,:]\\\\d{2,4}))(?P<end>[\\\\?!,\\\\.\\\\(\\\\)\\\\s])*$',\n",
       "  '^(?P<begin>[\\\\s\\\\(])*((\\\\d{1,2}[\\\\.,:]\\\\d{1,2}[\\\\.,:]\\\\d{2,4}))(?P<end>[\\\\?!,\\\\.\\\\(\\\\)\\\\s])+',\n",
       "  '(?P<begin>[\\\\?!,\\\\.\\\\(\\\\)\\\\s])+((\\\\d{1,2}[\\\\.,:]\\\\d{1,2}[\\\\.,:]\\\\d{2,4}))(?P<end>[\\\\?!,\\\\.\\\\(\\\\)\\\\s])*$',\n",
       "  '(?P<begin>[\\\\?!,\\\\.\\\\(\\\\)\\\\s])+((\\\\d{1,2}[\\\\.,:]\\\\d{1,2}[\\\\.,:]\\\\d{2,4}))(?P<end>[\\\\?!,\\\\.\\\\(\\\\)\\\\s])+'],\n",
       " 'DATE_OR_TIME': ['^(?P<begin>[\\\\s\\\\(])*((\\\\d{1,2}[\\\\.,:]\\\\d{2,4}))(?P<end>[\\\\?!,\\\\.\\\\(\\\\)\\\\s])*$',\n",
       "  '^(?P<begin>[\\\\s\\\\(])*((\\\\d{1,2}[\\\\.,:]\\\\d{2,4}))(?P<end>[\\\\?!,\\\\.\\\\(\\\\)\\\\s])+',\n",
       "  '(?P<begin>[\\\\?!,\\\\.\\\\(\\\\)\\\\s])+((\\\\d{1,2}[\\\\.,:]\\\\d{2,4}))(?P<end>[\\\\?!,\\\\.\\\\(\\\\)\\\\s])*$',\n",
       "  '(?P<begin>[\\\\?!,\\\\.\\\\(\\\\)\\\\s])+((\\\\d{1,2}[\\\\.,:]\\\\d{2,4}))(?P<end>[\\\\?!,\\\\.\\\\(\\\\)\\\\s])+'],\n",
       " 'DEC_FRAC_OR_TIME': ['^(?P<begin>[\\\\s\\\\(])*((\\\\d+[\\\\.,:]\\\\d+))(?P<end>[\\\\?!,\\\\.\\\\(\\\\)\\\\s])*$',\n",
       "  '^(?P<begin>[\\\\s\\\\(])*((\\\\d+[\\\\.,:]\\\\d+))(?P<end>[\\\\?!,\\\\.\\\\(\\\\)\\\\s])+',\n",
       "  '(?P<begin>[\\\\?!,\\\\.\\\\(\\\\)\\\\s])+((\\\\d+[\\\\.,:]\\\\d+))(?P<end>[\\\\?!,\\\\.\\\\(\\\\)\\\\s])*$',\n",
       "  '(?P<begin>[\\\\?!,\\\\.\\\\(\\\\)\\\\s])+((\\\\d+[\\\\.,:]\\\\d+))(?P<end>[\\\\?!,\\\\.\\\\(\\\\)\\\\s])+']}"
      ]
     },
     "execution_count": 32,
     "metadata": {},
     "output_type": "execute_result"
    }
   ],
   "source": [
    "syn_rpl_date._final_pattern_dict"
   ]
  },
  {
   "cell_type": "code",
   "execution_count": 63,
   "metadata": {},
   "outputs": [
    {
     "data": {
      "text/plain": [
       "{'pipka': False}"
      ]
     },
     "execution_count": 63,
     "metadata": {},
     "output_type": "execute_result"
    }
   ],
   "source": [
    "json.loads(\n",
    "\"{\\\"pipka\\\": false}\"\n",
    ")"
   ]
  },
  {
   "cell_type": "code",
   "execution_count": 64,
   "metadata": {
    "collapsed": true
   },
   "outputs": [],
   "source": [
    "def dummy():\n",
    "    pass"
   ]
  },
  {
   "cell_type": "code",
   "execution_count": 65,
   "metadata": {},
   "outputs": [
    {
     "data": {
      "text/plain": [
       "function"
      ]
     },
     "execution_count": 65,
     "metadata": {},
     "output_type": "execute_result"
    }
   ],
   "source": [
    "type(dummy)"
   ]
  },
  {
   "cell_type": "code",
   "execution_count": 67,
   "metadata": {},
   "outputs": [
    {
     "data": {
      "text/plain": [
       "True"
      ]
     },
     "execution_count": 67,
     "metadata": {},
     "output_type": "execute_result"
    }
   ],
   "source": [
    "callable(dummy)"
   ]
  },
  {
   "cell_type": "code",
   "execution_count": null,
   "metadata": {
    "collapsed": true
   },
   "outputs": [],
   "source": []
  }
 ],
 "metadata": {
  "kernelspec": {
   "display_name": "Python 3",
   "language": "python",
   "name": "python3"
  },
  "language_info": {
   "codemirror_mode": {
    "name": "ipython",
    "version": 3
   },
   "file_extension": ".py",
   "mimetype": "text/x-python",
   "name": "python",
   "nbconvert_exporter": "python",
   "pygments_lexer": "ipython3",
   "version": "3.6.0"
  }
 },
 "nbformat": 4,
 "nbformat_minor": 2
}
